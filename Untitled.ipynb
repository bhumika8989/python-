{
  "nbformat": 4,
  "nbformat_minor": 0,
  "metadata": {
    "colab": {
      "name": "Untitled",
      "provenance": [],
      "authorship_tag": "ABX9TyNZ9MTmptgAReKTe9CpJrzP",
      "include_colab_link": true
    },
    "kernelspec": {
      "name": "python3",
      "display_name": "Python 3"
    }
  },
  "cells": [
    {
      "cell_type": "markdown",
      "metadata": {
        "id": "view-in-github",
        "colab_type": "text"
      },
      "source": [
        "<a href=\"https://colab.research.google.com/github/bhumika8989/python-/blob/master/Untitled.ipynb\" target=\"_parent\"><img src=\"https://colab.research.google.com/assets/colab-badge.svg\" alt=\"Open In Colab\"/></a>"
      ]
    },
    {
      "cell_type": "markdown",
      "metadata": {
        "id": "CWB31ZeEHf0Y",
        "colab_type": "text"
      },
      "source": [
        "Variables and data type"
      ]
    },
    {
      "cell_type": "markdown",
      "metadata": {
        "id": "Oe9cqaEsHuX3",
        "colab_type": "text"
      },
      "source": [
        "Write a python program to design a simple calculator for the operators"
      ]
    },
    {
      "cell_type": "code",
      "metadata": {
        "id": "ki3p80_hH73t",
        "colab_type": "code",
        "colab": {
          "base_uri": "https://localhost:8080/",
          "height": 68
        },
        "outputId": "bd9fdba1-0f11-4906-8692-c1bbb81ff0f6"
      },
      "source": [
        " a=int(input('enter the first value'))\n",
        " b=int(input('enter the second value'))\n",
        " print('the sum of two number is',a+b)"
      ],
      "execution_count": null,
      "outputs": [
        {
          "output_type": "stream",
          "text": [
            "enter the first value 8\n",
            "enter the second value 9\n",
            "the sum of two number is 17\n"
          ],
          "name": "stdout"
        }
      ]
    },
    {
      "cell_type": "code",
      "metadata": {
        "id": "kc8d8XE2OBBQ",
        "colab_type": "code",
        "colab": {}
      },
      "source": [
        ""
      ],
      "execution_count": null,
      "outputs": []
    },
    {
      "cell_type": "markdown",
      "metadata": {
        "id": "tay_nqELOCDW",
        "colab_type": "text"
      },
      "source": [
        "2."
      ]
    },
    {
      "cell_type": "code",
      "metadata": {
        "id": "RYlhct0wOGlp",
        "colab_type": "code",
        "colab": {
          "base_uri": "https://localhost:8080/",
          "height": 68
        },
        "outputId": "3b24a792-fccb-4df1-dc49-492d5dfc9898"
      },
      "source": [
        "  a=int(input('enter the first value')) \n",
        "b=int(input('enter the second value'))\n",
        "print('the sub of two number is',a-b)"
      ],
      "execution_count": null,
      "outputs": [
        {
          "output_type": "stream",
          "text": [
            "enter the first value6\n",
            "enter the second value8\n",
            "the sub of two number is -2\n"
          ],
          "name": "stdout"
        }
      ]
    },
    {
      "cell_type": "markdown",
      "metadata": {
        "id": "zfH1no7zOrzN",
        "colab_type": "text"
      },
      "source": [
        "3."
      ]
    },
    {
      "cell_type": "code",
      "metadata": {
        "id": "bkawhm_iOuvK",
        "colab_type": "code",
        "colab": {
          "base_uri": "https://localhost:8080/",
          "height": 68
        },
        "outputId": "5c3acc7c-400f-4b8e-f6b9-5070bdc4ebbe"
      },
      "source": [
        "  a=int(input('enter the first value')) \n",
        "b=int(input('enter the second value'))\n",
        "print('the multiple of two number is',a*b)"
      ],
      "execution_count": null,
      "outputs": [
        {
          "output_type": "stream",
          "text": [
            "enter the first value2\n",
            "enter the second value4\n",
            "the multiple of two number is 8\n"
          ],
          "name": "stdout"
        }
      ]
    },
    {
      "cell_type": "markdown",
      "metadata": {
        "id": "ycDsKrKIPGYg",
        "colab_type": "text"
      },
      "source": [
        "3"
      ]
    },
    {
      "cell_type": "code",
      "metadata": {
        "id": "0-kOFFp1PHeJ",
        "colab_type": "code",
        "colab": {
          "base_uri": "https://localhost:8080/",
          "height": 88
        },
        "outputId": "ac9150aa-1d6f-4b7a-8b65-33b561a2389b"
      },
      "source": [
        "  a=int(input('enter the first value')) \n",
        "b=int(input('enter the second value'))\n",
        "print('the div of two number is',a/b)"
      ],
      "execution_count": null,
      "outputs": [
        {
          "output_type": "stream",
          "text": [
            "enter the first value5\n",
            "enter the second value3\n",
            "the div of two number is 1.6666666666666667\n"
          ],
          "name": "stdout"
        }
      ]
    },
    {
      "cell_type": "markdown",
      "metadata": {
        "id": "UJMEasASPdqr",
        "colab_type": "text"
      },
      "source": [
        "5"
      ]
    },
    {
      "cell_type": "code",
      "metadata": {
        "id": "b_U9SqHVSLBL",
        "colab_type": "code",
        "colab": {
          "base_uri": "https://localhost:8080/",
          "height": 68
        },
        "outputId": "20aca035-4f03-45f1-b5d5-a8db68eb79ed"
      },
      "source": [
        "  a=int(input('enter the first value'))\n",
        "  b=int(input('enter the second value'))\n",
        "print('the modulus of two number is',a%b)"
      ],
      "execution_count": null,
      "outputs": [
        {
          "output_type": "stream",
          "text": [
            "enter the first value3\n",
            "enter the second value8\n",
            "the modulus of two number is 3\n"
          ],
          "name": "stdout"
        }
      ]
    },
    {
      "cell_type": "code",
      "metadata": {
        "id": "gDJWrllVSaZT",
        "colab_type": "code",
        "colab": {}
      },
      "source": [
        ""
      ],
      "execution_count": null,
      "outputs": []
    },
    {
      "cell_type": "markdown",
      "metadata": {
        "id": "sOaRee04Sao-",
        "colab_type": "text"
      },
      "source": [
        "6"
      ]
    },
    {
      "cell_type": "code",
      "metadata": {
        "id": "lzL3I0MmSb8N",
        "colab_type": "code",
        "colab": {
          "base_uri": "https://localhost:8080/",
          "height": 68
        },
        "outputId": "c333a4a7-2ee7-45d7-b54d-0e1b44e7d64e"
      },
      "source": [
        "  a=int(input('enter the first value')) \n",
        "  b=int(input('enter the second value'))\n",
        "print('the exponent of two number is',a**b)"
      ],
      "execution_count": null,
      "outputs": [
        {
          "output_type": "stream",
          "text": [
            "enter the first value 6 \n",
            "enter the second value 8\n",
            "the exponent of two number is 1679616\n"
          ],
          "name": "stdout"
        }
      ]
    },
    {
      "cell_type": "markdown",
      "metadata": {
        "id": "HFjl9sfzSu5k",
        "colab_type": "text"
      },
      "source": [
        "7"
      ]
    },
    {
      "cell_type": "code",
      "metadata": {
        "id": "QvW9lFrWSvy4",
        "colab_type": "code",
        "colab": {
          "base_uri": "https://localhost:8080/",
          "height": 68
        },
        "outputId": "8f9a85e0-1192-4fce-b3db-15a80f36fe5b"
      },
      "source": [
        "  a=int(input('enter the first value'))\n",
        "  b=int(input('enter the second value'))\n",
        "print('the floor divition of two number is',a//b)"
      ],
      "execution_count": null,
      "outputs": [
        {
          "output_type": "stream",
          "text": [
            "enter the first value4\n",
            "enter the second value 8\n",
            "the floor divition of two number is 0\n"
          ],
          "name": "stdout"
        }
      ]
    },
    {
      "cell_type": "markdown",
      "metadata": {
        "id": "-eoNSqi9TQcb",
        "colab_type": "text"
      },
      "source": [
        "2.simple intrest"
      ]
    },
    {
      "cell_type": "code",
      "metadata": {
        "id": "pbgnleFvfOsZ",
        "colab_type": "code",
        "colab": {
          "base_uri": "https://localhost:8080/",
          "height": 105
        },
        "outputId": "1d3527de-d5b6-4d90-d87b-44a941489f2e"
      },
      "source": [
        " \n",
        "p=int(input('enter the first value'))\n",
        "t=int(input('enter the second value'))\n",
        "r=int(input('enter the third value'))\n",
        "print('the simple interest of three number is',\n",
        "(p*t*r)/100)"
      ],
      "execution_count": null,
      "outputs": [
        {
          "output_type": "stream",
          "text": [
            "enter the first value4\n",
            "enter the second value2\n",
            "enter the third value7\n",
            "the simple interest of three number is 0.56\n"
          ],
          "name": "stdout"
        }
      ]
    },
    {
      "cell_type": "markdown",
      "metadata": {
        "id": "BQ9n1Dk4gR-0",
        "colab_type": "text"
      },
      "source": [
        "4."
      ]
    },
    {
      "cell_type": "code",
      "metadata": {
        "id": "3SJmB4QDfhUa",
        "colab_type": "code",
        "colab": {
          "base_uri": "https://localhost:8080/",
          "height": 103
        },
        "outputId": "bd6d5b71-10c5-423b-fa80-3d7492228a1c"
      },
      "source": [
        " s=float(input('enter the first value'))\n",
        "a=float(input('enter the second value'))\n",
        "b=float(input('enter the third value'))\n",
        "c=float(input('enter the fourth value'))\n",
        "area=(s*(s-a)*(s-b)*(s-c))**0.5\n",
        "print(\"%.2f\"%area)"
      ],
      "execution_count": null,
      "outputs": [
        {
          "output_type": "stream",
          "text": [
            "enter the first value5\n",
            "enter the second value8\n",
            "enter the third value9\n",
            "enter the fourth value4\n",
            "7.75\n"
          ],
          "name": "stdout"
        }
      ]
    },
    {
      "cell_type": "markdown",
      "metadata": {
        "id": "jR5lV8aygVMS",
        "colab_type": "text"
      },
      "source": [
        "5."
      ]
    },
    {
      "cell_type": "code",
      "metadata": {
        "id": "Ez2tFhDzgWmD",
        "colab_type": "code",
        "colab": {
          "base_uri": "https://localhost:8080/",
          "height": 71
        },
        "outputId": "b1540aa0-df6c-4150-d28d-17f3ffdc7d36"
      },
      "source": [
        " \n",
        "Celsius=float(input('enter the Celsius value in temperature'))\n",
        "Fahrenheit=(Celsius*9/5)+32\n",
        "print(\"%.2f\"%Fahrenheit)"
      ],
      "execution_count": null,
      "outputs": [
        {
          "output_type": "stream",
          "text": [
            "enter the Celsius value in temperature 45\n",
            "113.00\n"
          ],
          "name": "stdout"
        }
      ]
    },
    {
      "cell_type": "markdown",
      "metadata": {
        "id": "Pj43KXRqghmu",
        "colab_type": "text"
      },
      "source": [
        "6."
      ]
    },
    {
      "cell_type": "code",
      "metadata": {
        "id": "qEP3AJxYgijJ",
        "colab_type": "code",
        "colab": {
          "base_uri": "https://localhost:8080/",
          "height": 68
        },
        "outputId": "2ed26856-b4ad-4edc-e903-6c85e8186447"
      },
      "source": [
        " Width=float(input('enter the width value of rectangle'))\n",
        "Height=float(input('enter the height value of rectangle'))\n",
        "area=Width*Height\n",
        "print(\"%.2f\"%area)"
      ],
      "execution_count": null,
      "outputs": [
        {
          "output_type": "stream",
          "text": [
            "enter the width value of rectangle2\n",
            "enter the height value of rectangle3\n",
            "6.00\n"
          ],
          "name": "stdout"
        }
      ]
    },
    {
      "cell_type": "markdown",
      "metadata": {
        "id": "Qxz0W_cagpip",
        "colab_type": "text"
      },
      "source": [
        "7."
      ]
    },
    {
      "cell_type": "code",
      "metadata": {
        "id": "BsaA23apgqdv",
        "colab_type": "code",
        "colab": {
          "base_uri": "https://localhost:8080/",
          "height": 51
        },
        "outputId": "a35baa7a-996e-43af-f00a-6830e5bfd42e"
      },
      "source": [
        " Slength=float(input('enter the side length of a square'))\n",
        "Perimeter=4*Slength\n",
        "print(\"%.2f\"%Perimeter)"
      ],
      "execution_count": null,
      "outputs": [
        {
          "output_type": "stream",
          "text": [
            "enter the side length of a square3\n",
            "12.00\n"
          ],
          "name": "stdout"
        }
      ]
    },
    {
      "cell_type": "markdown",
      "metadata": {
        "id": "b-h20ig7g0b6",
        "colab_type": "text"
      },
      "source": [
        "8"
      ]
    },
    {
      "cell_type": "code",
      "metadata": {
        "id": "kEo3lzccg13P",
        "colab_type": "code",
        "colab": {
          "base_uri": "https://localhost:8080/",
          "height": 71
        },
        "outputId": "3f653fd2-eb83-4a22-bbad-9439ceb0269b"
      },
      "source": [
        " \n",
        "pi=3.14\n",
        "Radius=float(input('enter the radius value of circumference'))\n",
        "Circumference=2*pi*Radius\n",
        "print(\"%.2f\"%Circumference)"
      ],
      "execution_count": null,
      "outputs": [
        {
          "output_type": "stream",
          "text": [
            "enter the radius value of circumference4\n",
            "25.12\n"
          ],
          "name": "stdout"
        }
      ]
    },
    {
      "cell_type": "markdown",
      "metadata": {
        "id": "640PtyePg-fH",
        "colab_type": "text"
      },
      "source": [
        "9."
      ]
    },
    {
      "cell_type": "code",
      "metadata": {
        "id": "bNqKm6MMg_zX",
        "colab_type": "code",
        "colab": {
          "base_uri": "https://localhost:8080/",
          "height": 120
        },
        "outputId": "253c009b-184a-4c23-9597-76c65699f5dd"
      },
      "source": [
        " a=input('enter first number')\n",
        "b=input('enter second number')\n",
        "print('value of a before swapping',a)\n",
        "print('value of b before swapping',b) \n",
        "Temp=a\n",
        "a=b\n",
        "b=Temp\n",
        "print('value of a after swapping',a)\n",
        "print('value of b after swapping',b)"
      ],
      "execution_count": null,
      "outputs": [
        {
          "output_type": "stream",
          "text": [
            "enter first number8\n",
            "enter second number16\n",
            "value of a before swapping 8\n",
            "value of b before swapping 16\n",
            "value of a after swapping 16\n",
            "value of b after swapping 8\n"
          ],
          "name": "stdout"
        }
      ]
    },
    {
      "cell_type": "markdown",
      "metadata": {
        "id": "gpGJ_hpvgNSP",
        "colab_type": "text"
      },
      "source": [
        ""
      ]
    }
  ]
}