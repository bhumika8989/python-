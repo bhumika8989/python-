{
  "nbformat": 4,
  "nbformat_minor": 0,
  "metadata": {
    "colab": {
      "name": "Welcome to Colaboratory",
      "provenance": [],
      "collapsed_sections": [],
      "include_colab_link": true
    },
    "kernelspec": {
      "display_name": "Python 3",
      "name": "python3"
    }
  },
  "cells": [
    {
      "cell_type": "markdown",
      "metadata": {
        "id": "view-in-github",
        "colab_type": "text"
      },
      "source": [
        "<a href=\"https://colab.research.google.com/github/bhumika8989/python-/blob/master/Welcome_to_Colaboratory.ipynb\" target=\"_parent\"><img src=\"https://colab.research.google.com/assets/colab-badge.svg\" alt=\"Open In Colab\"/></a>"
      ]
    },
    {
      "cell_type": "markdown",
      "metadata": {
        "id": "Hpd6Rjc8QS-6",
        "colab_type": "text"
      },
      "source": [
        ""
      ]
    },
    {
      "cell_type": "code",
      "metadata": {
        "id": "4vltMbgUTs_H",
        "colab_type": "code",
        "colab": {}
      },
      "source": [
        " \n",
        "In [ ]:\n",
        "Take two inputs from user and check whether they are equal or not.\n",
        "In [2]:\n",
        "x=int(input('Enter First Number'))\n",
        "y=int(input('Enter Second Number'))\n",
        "if x==y:\n",
        "  print(\"Theyre Same\")\n",
        "else:\n",
        "  print(\"Theyre Not Same\")\n",
        "Enter First Number10\n",
        "Enter Second Number10\n",
        "Theyre Same\n",
        " \n",
        "Take 3 inputs from user and check : all are equal\n",
        " any of two are equal\n",
        " ( use and or )\n",
        "In [3]:\n",
        "x=int(input('Enter the First Number'))\n",
        "y=int(input('Enter the Second Number'))\n",
        "z=int(input('Enter the Third number'))\n",
        "all= x==y and y==z and z==x\n",
        "print(\"All are equal:\",all)\n",
        "anytwo= x==y or y==z or z==x\n",
        "print(\"Any of three are equal:\",anytwo)\n",
        "Enter the First Number10\n",
        "Enter the Second Number10\n",
        "Enter the Third number10\n",
        "All are equal: True\n",
        "Any of three are equal: True\n",
        " \n",
        "Take two number and check whether the sum is greater than 5, less than 5 or equal to 5.\n",
        "In [15]:\n",
        "x=int(input('Enter First Number'))\n",
        "y=int(input('Enter Second Number'))\n",
        "z=x+y\n",
        "if z>5:\n",
        " print(\"Sum Is Greater Than 5\")\n",
        "elif z<5:\n",
        "  print(\"Sum Is less than 5\")\n",
        "else:\n",
        "  print(\"Sum Is Equal To 5\")\n",
        "Enter First Number2\n",
        "Enter Second Number3\n",
        "Sum Is Equal To 5\n",
        " \n",
        "Suppose passing marks of a subject is 35. Take input of marks from user and check whether it is greater than passing marks or not.\n",
        "In [34]:\n",
        "m=int(input('Enter Youre Marks'))\n",
        "if m>35:\n",
        "  print(\"You have passed\")\n",
        "else:\n",
        "    print(\"you have failed\")\n",
        "Enter Youre Marks45\n",
        "You have passed\n",
        " \n",
        "Write a Python function to find the Max of three numbers\n",
        "In [39]:\n",
        "x=int(input('Enter First Number'))\n",
        "y=int(input('Enter Second Number'))\n",
        "z=int(input('Enter Third Number'))\n",
        "if x>y:\n",
        "  if x>z:\n",
        "    print(\"X is Greatest\")\n",
        "  else:\n",
        "    print(\"Z is Greatest\")\n",
        "elif y>x:\n",
        "  if y>z:\n",
        "    print(\"Y is Greatest\")\n",
        "  else:\n",
        "    print(\"Z is Greatest\")\n",
        "Enter First Number20\n",
        "Enter Second Number10\n",
        "Enter Third Number15\n",
        "X is Greatest"
      ],
      "execution_count": null,
      "outputs": []
    }
  ]
}